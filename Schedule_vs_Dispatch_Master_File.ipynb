{
  "nbformat": 4,
  "nbformat_minor": 0,
  "metadata": {
    "colab": {
      "provenance": [],
      "gpuType": "V28",
      "mount_file_id": "1Rb0X154fIShHsUhmEk5phbvBajQe2pCl",
      "authorship_tag": "ABX9TyNTaeVqQJ2jgzRyOHcCPmfF",
      "include_colab_link": true
    },
    "kernelspec": {
      "name": "python3",
      "display_name": "Python 3"
    },
    "language_info": {
      "name": "python"
    },
    "accelerator": "TPU"
  },
  "cells": [
    {
      "cell_type": "markdown",
      "metadata": {
        "id": "view-in-github",
        "colab_type": "text"
      },
      "source": [
        "<a href=\"https://colab.research.google.com/github/aatish-garje/Schedule-vs-Dispatch/blob/main/Schedule_vs_Dispatch_Master_File.ipynb\" target=\"_parent\"><img src=\"https://colab.research.google.com/assets/colab-badge.svg\" alt=\"Open In Colab\"/></a>"
      ]
    },
    {
      "cell_type": "code",
      "execution_count": 106,
      "metadata": {
        "colab": {
          "base_uri": "https://localhost:8080/"
        },
        "id": "ldLZGByeYp7H",
        "outputId": "22a62858-97b1-4e24-ff7e-0612b0f5c46d"
      },
      "outputs": [
        {
          "output_type": "stream",
          "name": "stdout",
          "text": [
            "Requirement already satisfied: openpyxl in /usr/local/lib/python3.11/dist-packages (3.1.5)\n",
            "Requirement already satisfied: et-xmlfile in /usr/local/lib/python3.11/dist-packages (from openpyxl) (2.0.0)\n"
          ]
        }
      ],
      "source": [
        "import pandas as pd\n",
        "import numpy as np\n",
        "import matplotlib.pyplot as plt\n",
        "import seaborn as sns\n",
        "import warnings\n",
        "warnings.filterwarnings(\"ignore\")\n",
        "\n",
        "!pip install openpyxl"
      ]
    },
    {
      "cell_type": "code",
      "source": [
        "dispatch_df=pd.read_excel(\"/content/drive/MyDrive/Dispatch till 14.07.2025.XLSX\")\n",
        "schedule_power=pd.read_excel(\"/content/drive/MyDrive/REV 1 CUSTOMER SCHEDULE -July - 2025.xlsx\", sheet_name='POWER', header=3)\n",
        "schedule_mech=pd.read_excel(\"/content/drive/MyDrive/REV 1 CUSTOMER SCHEDULE -July - 2025.xlsx\", sheet_name='MECH', header=3)"
      ],
      "metadata": {
        "id": "ZMiCV8zqbbp3"
      },
      "execution_count": 107,
      "outputs": []
    },
    {
      "cell_type": "code",
      "source": [
        "dispatch_df['Sold-to Party'] = dispatch_df.apply(\n",
        "    lambda x: str(x['Sold-to Party']) + '.'\n",
        "    if (x['Plant'] == 2000 and not str(x['Sold-to Party']).upper().startswith('V'))\n",
        "    else x['Sold-to Party'],\n",
        "    axis=1\n",
        ")"
      ],
      "metadata": {
        "id": "FfhL-tqhbxF7"
      },
      "execution_count": 108,
      "outputs": []
    },
    {
      "cell_type": "code",
      "source": [
        "dispatch_df = dispatch_df[~dispatch_df['Material'].astype(str).str.startswith('C')]"
      ],
      "metadata": {
        "id": "8U6nP-g5nkWW"
      },
      "execution_count": 109,
      "outputs": []
    },
    {
      "cell_type": "code",
      "source": [
        "dispatch_df.loc[dispatch_df['Inv Qty'] == 0, 'Inv Qty'] = dispatch_df['Kit Qty']"
      ],
      "metadata": {
        "id": "YrN771kIoWfm"
      },
      "execution_count": 110,
      "outputs": []
    },
    {
      "cell_type": "code",
      "source": [
        "dispatch_df = dispatch_df[dispatch_df['Material'] != 8043975905]"
      ],
      "metadata": {
        "id": "MrqR2uwbqLvT"
      },
      "execution_count": 111,
      "outputs": []
    },
    {
      "cell_type": "code",
      "source": [
        "dispatch_df = dispatch_df[dispatch_df['Customer Group'] == 10]"
      ],
      "metadata": {
        "id": "NYU2dqsGr7fa"
      },
      "execution_count": 112,
      "outputs": []
    },
    {
      "cell_type": "code",
      "source": [
        "# 1️⃣ Separate Sales Order No starting with '10' (keep untouched)\n",
        "keep_sales_order_10 = dispatch_df[dispatch_df['Sales Order No'].astype(str).str.startswith('10')]\n",
        "\n",
        "# 2️⃣ Remaining data where Sales Order No does NOT start with '10'\n",
        "remaining = dispatch_df[~dispatch_df['Sales Order No'].astype(str).str.startswith('10')]\n",
        "\n",
        "# 3️⃣ Identify Billing Doc No. with duplicates (count > 1)\n",
        "billing_doc_counts = remaining['Billing Doc No.'].value_counts()\n",
        "duplicates = billing_doc_counts[billing_doc_counts > 1].index.tolist()\n",
        "\n",
        "# 4️⃣ Split duplicates and unique separately\n",
        "duplicates_df = remaining[remaining['Billing Doc No.'].isin(duplicates)]\n",
        "unique_df = remaining[~remaining['Billing Doc No.'].isin(duplicates)]\n",
        "\n",
        "# 5️⃣ In duplicates, keep only Item == 10\n",
        "duplicates_df = duplicates_df[duplicates_df['Item'] == 10]\n",
        "\n",
        "# 6️⃣ Combine: keep_sales_order_10 + unique + cleaned duplicates\n",
        "dispatch_df = pd.concat([keep_sales_order_10, unique_df, duplicates_df], ignore_index=True)"
      ],
      "metadata": {
        "id": "HT6pCtnlscli"
      },
      "execution_count": 113,
      "outputs": []
    },
    {
      "cell_type": "code",
      "source": [
        "dispatch_summary = dispatch_df.groupby(['Sold-to Party', 'Material'], as_index=False)['Inv Qty'].sum()\n",
        "dispatch_summary.rename(columns={'Inv Qty': 'Dispatch Qty'}, inplace=True)"
      ],
      "metadata": {
        "id": "gC3gvP4OslKS"
      },
      "execution_count": 114,
      "outputs": []
    },
    {
      "cell_type": "code",
      "source": [
        "schedule_power['Code'] = schedule_power['Code'].astype(str)\n",
        "schedule_power['Part Number'] = schedule_power['Part Number'].astype(str)\n",
        "\n",
        "schedule_mech['Code'] = schedule_mech['Code'].astype(str)\n",
        "schedule_mech['Part Number'] = schedule_mech['Part Number'].astype(str)"
      ],
      "metadata": {
        "id": "cjQOJ4bRwi6i"
      },
      "execution_count": 115,
      "outputs": []
    },
    {
      "cell_type": "code",
      "source": [
        "# Power Schedule Merge\n",
        "schedule_power = pd.merge(\n",
        "    schedule_power,\n",
        "    dispatch_summary,\n",
        "    left_on=['Code', 'Part Number'],\n",
        "    right_on=['Sold-to Party', 'Material'],\n",
        "    how='left'\n",
        ")\n",
        "\n",
        "# Mech Schedule Merge\n",
        "schedule_mech = pd.merge(\n",
        "    schedule_mech,\n",
        "    dispatch_summary,\n",
        "    left_on=['Code', 'Part Number'],\n",
        "    right_on=['Sold-to Party', 'Material'],\n",
        "    how='left'\n",
        ")\n",
        "\n",
        "# Fill NaN with 0\n",
        "schedule_power['Dispatch Qty'] = schedule_power['Dispatch Qty'].fillna(0)\n",
        "schedule_mech['Dispatch Qty'] = schedule_mech['Dispatch Qty'].fillna(0)\n",
        "\n",
        "columns_to_keep_power = [\n",
        "    'Code', 'Customer', 'MODEL', 'BILLING PLANT', 'Part Number',\n",
        "    'Customer Part', 'Description', 'Initial Schedule',\n",
        "    'REV-1', 'REV-2'\n",
        "]\n",
        "# Columns starting with Marketing Requirement\n",
        "marketing_columns_power = [col for col in schedule_power.columns if col.startswith('Marketing Requirement')]\n",
        "\n",
        "# Rearrange Dispatch Qty at the end\n",
        "final_columns_power = columns_to_keep_power + marketing_columns_power + ['Dispatch Qty']\n",
        "schedule_power = schedule_power[final_columns_power]\n",
        "\n",
        "columns_to_keep_power = [\n",
        "    'Code', 'Customer', 'MODEL', 'BILLING PLANT', 'Part Number',\n",
        "    'Customer Part', 'Description', 'Initial Schedule',\n",
        "    'REV-1', 'REV-2'\n",
        "]\n",
        "# Columns starting with Marketing Requirement\n",
        "marketing_columns_power = [col for col in schedule_power.columns if col.startswith('Marketing Requirement')]\n",
        "\n",
        "# Rearrange Dispatch Qty at the end\n",
        "final_columns_power = columns_to_keep_power + marketing_columns_power + ['Dispatch Qty']\n",
        "schedule_power = schedule_power[final_columns_power]"
      ],
      "metadata": {
        "id": "l04QMPoBwwpU"
      },
      "execution_count": 116,
      "outputs": []
    },
    {
      "cell_type": "code",
      "source": [
        "with pd.ExcelWriter('/content/Schedule_with_Dispatch.xlsx') as writer:\n",
        "    schedule_power.to_excel(writer, sheet_name='Power', index=False)\n",
        "    schedule_mech.to_excel(writer, sheet_name='Mech', index=False)"
      ],
      "metadata": {
        "id": "L4ptJyDHw2ep"
      },
      "execution_count": 117,
      "outputs": []
    }
  ]
}